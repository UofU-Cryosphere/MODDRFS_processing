{
 "cells": [
  {
   "cell_type": "markdown",
   "id": "13fcb8db",
   "metadata": {},
   "source": [
    "# Matlab to Geotiff Conversion\n",
    "\n",
    "This notebook is adapted from Joe Meyer's snow-rs package (https://github.com/UofU-Cryosphere/snow-rs.git)\n",
    "Coverts MODIS snow products from matlab format to geotiff"
   ]
  },
  {
   "cell_type": "code",
   "execution_count": 1,
   "id": "bc82391f",
   "metadata": {},
   "outputs": [],
   "source": [
    "import h5py\n",
    "import numpy as np\n",
    "import glob\n",
    "from osgeo import gdal, gdalconst, gdal_array\n",
    "import os\n",
    "from snow_rs.lib import modis_geotiff"
   ]
  },
  {
   "cell_type": "code",
   "execution_count": 2,
   "id": "e75bfa43",
   "metadata": {},
   "outputs": [],
   "source": [
    "GDAL_GTIFF = 'GTiff'\n",
    "GDAL_VRT = 'VRT'\n",
    "GTIFF_DRIVER = gdal.GetDriverByName(GDAL_GTIFF)\n",
    "GTIFF_DRIVER_OPTS = [\n",
    "    \"COMPRESS=LZW\",\n",
    "    \"TILED=YES\",\n",
    "    \"BIGTIFF=IF_SAFER\",\n",
    "    \"NUM_THREADS=ALL_CPUS\"\n",
    "]\n",
    "\n",
    "\n",
    "BAND_DATA_TYPE = gdalconst.GDT_UInt16\n",
    "BAND_NO_DATA_VALUE = 65535\n",
    "BAND_NUMBER = 1\n",
    "\n",
    "PROJ = '+proj=sinu +lon_0=0 +x_0=0 +y_0=0 +a=6371007.181 +b=6371007.181 +units=m +no_defs'\n",
    "\n",
    "def matlab_to_geotiff(matlab_file, output_file, template_file, variable):\n",
    "    #Create an empty geotiff to put the data in\n",
    "    template_file = gdal.Open(template_file)\n",
    "    geotiff = GTIFF_DRIVER.Create(\n",
    "        output_file,\n",
    "        template_file.RasterXSize, template_file.RasterYSize,\n",
    "        BAND_NUMBER, BAND_DATA_TYPE,\n",
    "        options = GTIFF_DRIVER_OPTS)\n",
    "    geotiff.SetGeoTransform(template_file.GetGeoTransform())\n",
    "    geotiff.SetProjection(PROJ)\n",
    "    \n",
    "    modis_band = geotiff.GetRasterBand(BAND_NUMBER)\n",
    "    modis_band.SetNoDataValue(BAND_NO_DATA_VALUE)\n",
    "    \n",
    "    data_file = h5py.File(matlab_file)\n",
    "    gdal_array.BandWriteArray(modis_band, np.array(data_file[variable]).T)\n",
    "    modis_band.ComputeStatistics(0)\n",
    "    modis_band.FlushCache()\n",
    "    \n",
    "    del data_file\n",
    "    del modis_band\n",
    "    del geotiff\n",
    "    del template_file\n",
    "    return output_file"
   ]
  },
  {
   "cell_type": "markdown",
   "id": "7a60c12a",
   "metadata": {},
   "source": [
    "## Convert deltavis data to geotiffs"
   ]
  },
  {
   "cell_type": "code",
   "execution_count": 6,
   "id": "d5950ddc",
   "metadata": {},
   "outputs": [],
   "source": [
    "years = np.arange(2001,2022).astype(str)\n",
    "template_file = 'snow-rs/src/snow_rs/data/modis/WesternUS.tif'\n",
    "\n",
    "for year in years:\n",
    "    modis_files = glob.glob('input_your_path_here'+year+'/*')\n",
    "    modis_files.sort()\n",
    "    for modis_file in modis_files:\n",
    "        output_path = 'input_your_path_here'\n",
    "        file_str = os.path.basename(modis_file)[slice(0,24)]+'_deltavis.tif'\n",
    "        output_file = output_path+file_str\n",
    "        matlab_to_geotiff(modis_file, output_file, template_file, 'deltavis')"
   ]
  },
  {
   "cell_type": "code",
   "execution_count": 7,
   "id": "cf704d63",
   "metadata": {},
   "outputs": [],
   "source": [
    "years = np.arange(2021,2024).astype(str)\n",
    "template_file = 'snow-rs/src/snow_rs/data/modis/WesternUS.tif'\n",
    "\n",
    "for year in years:\n",
    "    modis_files = glob.glob('input_your_path_here'+year+'/*')\n",
    "    modis_files.sort()\n",
    "    for modis_file in modis_files:\n",
    "        output_path = 'input_your_path_here'\n",
    "        file_str = os.path.basename(modis_file)[slice(0,24)]+'_deltavis.tif'\n",
    "        output_file = output_path+file_str\n",
    "        matlab_to_geotiff(modis_file, output_file, template_file, 'deltavis')"
   ]
  },
  {
   "cell_type": "markdown",
   "id": "581214a1",
   "metadata": {},
   "source": [
    "## Convert SCF data to geotiffs"
   ]
  },
  {
   "cell_type": "code",
   "execution_count": 8,
   "id": "20f57720",
   "metadata": {},
   "outputs": [],
   "source": [
    "years = np.arange(2000,2022).astype(str)\n",
    "template_file = 'snow-rs/src/snow_rs/data/modis/WesternUS.tif'\n",
    "\n",
    "for year in years:\n",
    "    modis_files = glob.glob('input_your_path_here'+year+'/*')\n",
    "    modis_files.sort()\n",
    "    for modis_file in modis_files:\n",
    "        output_path = 'input_your_path_here'\n",
    "        file_str = os.path.basename(modis_file)[slice(0,24)]+'_scf.tif'\n",
    "        output_file = output_path+file_str\n",
    "        matlab_to_geotiff(modis_file, output_file, template_file, 'snow_fraction')"
   ]
  },
  {
   "cell_type": "code",
   "execution_count": 9,
   "id": "264905ac",
   "metadata": {},
   "outputs": [],
   "source": [
    "years = np.arange(2023,2024).astype(str)\n",
    "template_file = 'snow-rs/src/snow_rs/data/modis/WesternUS.tif'\n",
    "\n",
    "for year in years:\n",
    "    modis_files = glob.glob('input_your_path_here'+year+'/*')\n",
    "    modis_files.sort()\n",
    "    for modis_file in modis_files:\n",
    "        output_path = 'input_your_path_here'\n",
    "        file_str = os.path.basename(modis_file)[slice(0,24)]+'_scf.tif'\n",
    "        output_file = output_path+file_str\n",
    "        matlab_to_geotiff(modis_file, output_file, template_file, 'snow_fraction')"
   ]
  },
  {
   "cell_type": "markdown",
   "id": "5d683f29",
   "metadata": {},
   "source": [
    "## Convert DRFS data to geotiffs"
   ]
  },
  {
   "cell_type": "code",
   "execution_count": null,
   "id": "15459a1d",
   "metadata": {},
   "outputs": [],
   "source": [
    "years = np.arange(2000,2022).astype(str)\n",
    "template_file = 'snow-rs/src/snow_rs/data/modis/WesternUS.tif'\n",
    "\n",
    "for year in years:\n",
    "    modis_files = glob.glob('input_your_path_here'+year+'/*')\n",
    "    modis_files.sort()\n",
    "    for modis_file in modis_files:\n",
    "        output_path = 'input_your_path_here'\n",
    "        file_str = os.path.basename(modis_file)[slice(0,24)]+'_drfs.tif'\n",
    "        output_file = output_path+file_str\n",
    "        matlab_to_geotiff(modis_file, output_file, template_file, 'radiative_forcing')"
   ]
  },
  {
   "cell_type": "code",
   "execution_count": 4,
   "id": "9494be96",
   "metadata": {},
   "outputs": [],
   "source": [
    "years = np.arange(2021,2024).astype(str)\n",
    "template_file = 'snow-rs/src/snow_rs/data/modis/WesternUS.tif'\n",
    "\n",
    "for year in years:\n",
    "    modis_files = glob.glob('input_your_path_here'+year+'/*')\n",
    "    modis_files.sort()\n",
    "    for modis_file in modis_files:\n",
    "        output_path = 'input_your_path_here'\n",
    "        file_str = os.path.basename(modis_file)[slice(0,24)]+'_drfs.tif'\n",
    "        output_file = output_path+file_str\n",
    "        matlab_to_geotiff(modis_file, output_file, template_file, 'radiative_forcing')\n",
    "        "
   ]
  }
 ],
 "metadata": {
  "kernelspec": {
   "display_name": "Python 3 (ipykernel)",
   "language": "python",
   "name": "python3"
  },
  "language_info": {
   "codemirror_mode": {
    "name": "ipython",
    "version": 3
   },
   "file_extension": ".py",
   "mimetype": "text/x-python",
   "name": "python",
   "nbconvert_exporter": "python",
   "pygments_lexer": "ipython3",
   "version": "3.10.0"
  }
 },
 "nbformat": 4,
 "nbformat_minor": 5
}
